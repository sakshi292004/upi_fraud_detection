{
 "cells": [
  {
   "cell_type": "code",
   "execution_count": null,
   "id": "deb60562-a926-4b95-9908-d5fc9ec9e8cc",
   "metadata": {},
   "outputs": [],
   "source": []
  },
  {
   "cell_type": "code",
   "execution_count": 2,
   "id": "755b9527-11bb-4e75-9638-944f71ac9d63",
   "metadata": {},
   "outputs": [
    {
     "name": "stdout",
     "output_type": "stream",
     "text": [
      "Index(['TransactionID', 'AccountID', 'TransactionAmount', 'TransactionDate',\n",
      "       'TransactionType', 'Location', 'DeviceID', 'IP Address', 'MerchantID',\n",
      "       'Channel', 'CustomerAge', 'CustomerOccupation', 'TransactionDuration',\n",
      "       'LoginAttempts', 'AccountBalance', 'PreviousTransactionDate'],\n",
      "      dtype='object')\n"
     ]
    }
   ],
   "source": [
    "import pandas as pd\n",
    "\n",
    "data = pd.read_csv(r\"C:\\Users\\saksh\\Desktop\\bank_transactions_data_2.csv\")\n",
    "print(data.columns)\n"
   ]
  },
  {
   "cell_type": "code",
   "execution_count": 5,
   "id": "356feae1-b633-49a5-b2b6-dabe4aa03b60",
   "metadata": {},
   "outputs": [
    {
     "name": "stdout",
     "output_type": "stream",
     "text": [
      "✅ Model trained and fraud predictions saved!\n"
     ]
    }
   ],
   "source": [
    "import pandas as pd\n",
    "import numpy as np\n",
    "from sklearn.preprocessing import StandardScaler, OneHotEncoder\n",
    "from sklearn.compose import ColumnTransformer\n",
    "from sklearn.pipeline import Pipeline\n",
    "from sklearn.ensemble import IsolationForest\n",
    "import joblib\n",
    "\n",
    "# Load data\n",
    "data = pd.read_csv(r\"C:\\Users\\saksh\\Desktop\\bank_transactions_data_2.csv\")\n",
    "\n",
    "# Feature engineering\n",
    "data['TransactionDate'] = pd.to_datetime(data['TransactionDate'])\n",
    "data['PrevDate'] = pd.to_datetime(data['PreviousTransactionDate'])\n",
    "data['tx_hour'] = data['TransactionDate'].dt.hour\n",
    "data['tx_dayofweek'] = data['TransactionDate'].dt.dayofweek\n",
    "data['time_since_prev'] = (data['TransactionDate'] - data['PrevDate']).dt.total_seconds().fillna(0)\n",
    "\n",
    "# Features to use\n",
    "numeric_features = [\"TransactionAmount\", \"CustomerAge\", \"LoginAttempts\", \n",
    "                    \"AccountBalance\", \"TransactionDuration\", \n",
    "                    \"tx_hour\", \"tx_dayofweek\", \"time_since_prev\"]\n",
    "\n",
    "categorical_features = [\"TransactionType\", \"Location\", \"Channel\", \"CustomerOccupation\"]\n",
    "\n",
    "X = data[numeric_features + categorical_features]\n",
    "\n",
    "# Preprocessing\n",
    "preprocessor = ColumnTransformer(transformers=[\n",
    "    (\"num\", StandardScaler(), numeric_features),\n",
    "    (\"cat\", OneHotEncoder(handle_unknown=\"ignore\", sparse_output=False), categorical_features)\n",
    "])\n",
    "\n",
    "# Build pipeline with Isolation Forest\n",
    "clf = Pipeline(steps=[\n",
    "    (\"pre\", preprocessor),\n",
    "    (\"iforest\", IsolationForest(n_estimators=200, contamination=0.05, random_state=42))\n",
    "])\n",
    "\n",
    "# Train model\n",
    "clf.fit(X)\n",
    "\n",
    "# Predict anomalies (-1 = fraud, 1 = normal)\n",
    "data['fraud_prediction'] = clf['iforest'].predict(clf['pre'].transform(X))\n",
    "data['fraud_prediction'] = data['fraud_prediction'].map({1: 0, -1: 1})  # 1 = fraud, 0 = normal\n",
    "\n",
    "# Save model\n",
    "joblib.dump(clf, \"unsupervised_upi_fraud_iforest.pkl\")\n",
    "\n",
    "# Save dataset with predictions\n",
    "data.to_csv(\"bank_transactions_with_fraud_predictions.csv\", index=False)\n",
    "\n",
    "print(\"✅ Model trained and fraud predictions saved!\")\n"
   ]
  },
  {
   "cell_type": "code",
   "execution_count": null,
   "id": "56928dfc-3db4-4cf6-befa-654fe5c94d01",
   "metadata": {},
   "outputs": [],
   "source": []
  }
 ],
 "metadata": {
  "kernelspec": {
   "display_name": "Python 3 (ipykernel)",
   "language": "python",
   "name": "python3"
  },
  "language_info": {
   "codemirror_mode": {
    "name": "ipython",
    "version": 3
   },
   "file_extension": ".py",
   "mimetype": "text/x-python",
   "name": "python",
   "nbconvert_exporter": "python",
   "pygments_lexer": "ipython3",
   "version": "3.13.5"
  }
 },
 "nbformat": 4,
 "nbformat_minor": 5
}
